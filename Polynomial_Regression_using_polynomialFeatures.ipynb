{
 "cells": [
  {
   "cell_type": "code",
   "execution_count": 2,
   "metadata": {},
   "outputs": [],
   "source": [
    "import pandas as pd\n",
    "import numpy as np\n",
    "from statistics import mean\n",
    "from matplotlib import pyplot as plt\n",
    "from sklearn.model_selection import train_test_split\n",
    "from sklearn.linear_model import LinearRegression\n",
    "from sklearn.metrics import accuracy_score\n",
    "from sklearn.preprocessing import PolynomialFeatures\n",
    "from sklearn.metrics import r2_score"
   ]
  },
  {
   "cell_type": "code",
   "execution_count": 3,
   "metadata": {},
   "outputs": [],
   "source": [
    "x = [[1],[2],[3],[5],[6],[7],[8],[9],[10],[12],[13],[14],[15],[16],[18],[19],[21],[22]]\n",
    "y = [100,90,80,60,60,55,60,65,70,70,75,76,78,79,90,99,99,100]\n"
   ]
  },
  {
   "cell_type": "code",
   "execution_count": 4,
   "metadata": {},
   "outputs": [
    {
     "name": "stdout",
     "output_type": "stream",
     "text": [
      "(12, 1) (12,)\n",
      "(6, 1) (6,)\n"
     ]
    }
   ],
   "source": [
    "x_data = np.array(x)\n",
    "#x_data.reshape(-1,1)\n",
    "y_data = np.array(y)\n",
    "#print(x_data.shape)\n",
    "\n",
    "#print(y_data.shape)\n",
    "x_train, x_test, y_train, y_test = train_test_split( x_data, y_data, test_size = 0.3 )\n",
    "#x_train.reshape(1,12)\n",
    "print( x_train.shape, y_train.shape )\n",
    "print( x_test.shape, y_test.shape )\n"
   ]
  },
  {
   "cell_type": "code",
   "execution_count": 5,
   "metadata": {},
   "outputs": [
    {
     "data": {
      "image/png": "[encoded data removed]",
      "text/plain": [
       "<Figure size 432x288 with 1 Axes>"
      ]
     },
     "metadata": {
      "needs_background": "light"
     },
     "output_type": "display_data"
    }
   ],
   "source": [
    "plt.scatter( x_data,y_data,color = 'red' )\n",
    "plt.xlabel(\"X- Input\")\n",
    "plt.ylabel(\"Y -output\")\n",
    "plt.show()"
   ]
  },
  {
   "cell_type": "code",
   "execution_count": 6,
   "metadata": {},
   "outputs": [
    {
     "name": "stdout",
     "output_type": "stream",
     "text": [
      "PolynomialFeatures(degree=11)\n",
      "[[1.00000000e+00 1.60000000e+01 2.56000000e+02 4.09600000e+03\n",
      "  6.55360000e+04 1.04857600e+06 1.67772160e+07 2.68435456e+08\n",
      "  4.29496730e+09 6.87194767e+10 1.09951163e+12 1.75921860e+13]\n",
      " [1.00000000e+00 1.00000000e+00 1.00000000e+00 1.00000000e+00\n",
      "  1.00000000e+00 1.00000000e+00 1.00000000e+00 1.00000000e+00\n",
      "  1.00000000e+00 1.00000000e+00 1.00000000e+00 1.00000000e+00]\n",
      " [1.00000000e+00 2.20000000e+01 4.84000000e+02 1.06480000e+04\n",
      "  2.34256000e+05 5.15363200e+06 1.13379904e+08 2.49435789e+09\n",
      "  5.48758735e+10 1.20726922e+12 2.65599228e+13 5.84318301e+14]\n",
      " [1.00000000e+00 5.00000000e+00 2.50000000e+01 1.25000000e+02\n",
      "  6.25000000e+02 3.12500000e+03 1.56250000e+04 7.81250000e+04\n",
      "  3.90625000e+05 1.95312500e+06 9.76562500e+06 4.88281250e+07]\n",
      " [1.00000000e+00 2.10000000e+01 4.41000000e+02 9.26100000e+03\n",
      "  1.94481000e+05 4.08410100e+06 8.57661210e+07 1.80108854e+09\n",
      "  3.78228594e+10 7.94280047e+11 1.66798810e+13 3.50277501e+14]\n",
      " [1.00000000e+00 9.00000000e+00 8.10000000e+01 7.29000000e+02\n",
      "  6.56100000e+03 5.90490000e+04 5.31441000e+05 4.78296900e+06\n",
      "  4.30467210e+07 3.87420489e+08 3.48678440e+09 3.13810596e+10]\n",
      " [1.00000000e+00 7.00000000e+00 4.90000000e+01 3.43000000e+02\n",
      "  2.40100000e+03 1.68070000e+04 1.17649000e+05 8.23543000e+05\n",
      "  5.76480100e+06 4.03536070e+07 2.82475249e+08 1.97732674e+09]\n",
      " [1.00000000e+00 1.30000000e+01 1.69000000e+02 2.19700000e+03\n",
      "  2.85610000e+04 3.71293000e+05 4.82680900e+06 6.27485170e+07\n",
      "  8.15730721e+08 1.06044994e+10 1.37858492e+11 1.79216039e+12]\n",
      " [1.00000000e+00 2.00000000e+00 4.00000000e+00 8.00000000e+00\n",
      "  1.60000000e+01 3.20000000e+01 6.40000000e+01 1.28000000e+02\n",
      "  2.56000000e+02 5.12000000e+02 1.02400000e+03 2.04800000e+03]\n",
      " [1.00000000e+00 1.50000000e+01 2.25000000e+02 3.37500000e+03\n",
      "  5.06250000e+04 7.59375000e+05 1.13906250e+07 1.70859375e+08\n",
      "  2.56289062e+09 3.84433594e+10 5.76650391e+11 8.64975586e+12]\n",
      " [1.00000000e+00 8.00000000e+00 6.40000000e+01 5.12000000e+02\n",
      "  4.09600000e+03 3.27680000e+04 2.62144000e+05 2.09715200e+06\n",
      "  1.67772160e+07 1.34217728e+08 1.07374182e+09 8.58993459e+09]\n",
      " [1.00000000e+00 1.90000000e+01 3.61000000e+02 6.85900000e+03\n",
      "  1.30321000e+05 2.47609900e+06 4.70458810e+07 8.93871739e+08\n",
      "  1.69835630e+10 3.22687698e+11 6.13106626e+12 1.16490259e+14]]\n",
      "Input of testing data : [[1.00000000e+00 1.40000000e+01 1.96000000e+02 2.74400000e+03\n",
      "  3.84160000e+04 5.37824000e+05 7.52953600e+06 1.05413504e+08\n",
      "  1.47578906e+09 2.06610468e+10 2.89254655e+11 4.04956517e+12]\n",
      " [1.00000000e+00 6.00000000e+00 3.60000000e+01 2.16000000e+02\n",
      "  1.29600000e+03 7.77600000e+03 4.66560000e+04 2.79936000e+05\n",
      "  1.67961600e+06 1.00776960e+07 6.04661760e+07 3.62797056e+08]\n",
      " [1.00000000e+00 3.00000000e+00 9.00000000e+00 2.70000000e+01\n",
      "  8.10000000e+01 2.43000000e+02 7.29000000e+02 2.18700000e+03\n",
      "  6.56100000e+03 1.96830000e+04 5.90490000e+04 1.77147000e+05]\n",
      " [1.00000000e+00 1.00000000e+01 1.00000000e+02 1.00000000e+03\n",
      "  1.00000000e+04 1.00000000e+05 1.00000000e+06 1.00000000e+07\n",
      "  1.00000000e+08 1.00000000e+09 1.00000000e+10 1.00000000e+11]\n",
      " [1.00000000e+00 1.20000000e+01 1.44000000e+02 1.72800000e+03\n",
      "  2.07360000e+04 2.48832000e+05 2.98598400e+06 3.58318080e+07\n",
      "  4.29981696e+08 5.15978035e+09 6.19173642e+10 7.43008371e+11]\n",
      " [1.00000000e+00 1.80000000e+01 3.24000000e+02 5.83200000e+03\n",
      "  1.04976000e+05 1.88956800e+06 3.40122240e+07 6.12220032e+08\n",
      "  1.10199606e+10 1.98359290e+11 3.57046723e+12 6.42684101e+13]]\n"
     ]
    }
   ],
   "source": [
    "polynomial_equation = PolynomialFeatures(degree = 11)\n",
    "input_x_train = polynomial_equation.fit_transform(x_train)\n",
    "print(polynomial_equation)\n",
    "print(input_x_train)\n",
    "\n",
    "input_x_test = polynomial_equation.fit_transform(x_test)\n",
    "print(\"Input of testing data : {}\".format(input_x_test))"
   ]
  },
  {
   "cell_type": "code",
   "execution_count": 7,
   "metadata": {},
   "outputs": [],
   "source": [
    "# Apply Linear Regression\n",
    "reg = LinearRegression()\n",
    "model = reg.fit(input_x_train, y_train)"
   ]
  },
  {
   "cell_type": "code",
   "execution_count": 8,
   "metadata": {},
   "outputs": [
    {
     "name": "stdout",
     "output_type": "stream",
     "text": [
      "Slope : [ 0.00000000e+00 -7.52615982e-01 -1.54892748e+00 -1.35975830e+00\n",
      "  5.49454701e-01 -7.85563433e-02  5.08384560e-03 -6.31950707e-05\n",
      " -1.28420335e-05  9.15512571e-07 -2.62551106e-08  2.89886781e-10], Intercept : 102.71957358534564\n"
     ]
    }
   ],
   "source": [
    "#get linear regression coefficients\n",
    "slope = reg.coef_\n",
    "intercept = reg.intercept_\n",
    "print(\"Slope : {}, Intercept : {}\".format(slope, intercept))"
   ]
  },
  {
   "cell_type": "code",
   "execution_count": 16,
   "metadata": {},
   "outputs": [
    {
     "name": "stdout",
     "output_type": "stream",
     "text": [
      "training data : [79.70117233 99.53417888 99.9338198  59.211555   99.01243565 64.45374454\n",
      " 56.23573466 75.63280347 90.73246956 76.94855053 59.69653217 98.9070034 ] testing data : [75.98404627 55.64938348 78.72472381 69.09673118 74.77441673 92.09248841]\n"
     ]
    }
   ],
   "source": [
    "#Scores predicted = slope(m) * x(height) + b(intercept)......(Testing)\n",
    "#print(y_train.shape)\n",
    "def my_prediction(x,y,m,b):\n",
    "    predicted_train= np.zeros(y.shape)\n",
    "    \n",
    "    for i in range(len((x))):\n",
    "        for j in range(len(x[i])):\n",
    "            predicted_train[i] += (m[j] * x[i][j]) \n",
    "        predicted_train[i]  += b\n",
    "    return predicted_train\n",
    "\n",
    "\n",
    "a= my_prediction(input_x_train,y_train,slope,intercept)\n",
    "b= my_prediction(input_x_test,y_test,slope,intercept)\n",
    "\n",
    "print(\"training data : {} testing data : {}\".format(a,b))\n",
    "\n"
   ]
  },
  {
   "cell_type": "code",
   "execution_count": 17,
   "metadata": {},
   "outputs": [
    {
     "name": "stdout",
     "output_type": "stream",
     "text": [
      "0.9983938564234235 0.9072409451145363\n"
     ]
    }
   ],
   "source": [
    "accuracy_check_training = reg.score(input_x_train, y_train)\n",
    "accuracy_check_testing = reg.score(input_x_test, y_test)\n",
    "print(accuracy_check_training,accuracy_check_testing)"
   ]
  },
  {
   "cell_type": "code",
   "execution_count": 18,
   "metadata": {},
   "outputs": [
    {
     "data": {
      "image/png": "[encoded data removed]",
      "text/plain": [
       "<Figure size 432x288 with 1 Axes>"
      ]
     },
     "metadata": {
      "needs_background": "light"
     },
     "output_type": "display_data"
    }
   ],
   "source": [
    "plt.scatter(x_train, y_train, color = 'red')\n",
    "plt.scatter(x_test, y_test, color = 'coral')\n",
    "plt.xlabel('X-input')\n",
    "plt.ylabel('output')\n",
    "plt.scatter(x_train,a, color = 'yellow')\n",
    "plt.scatter(x_test,b, color = 'black')\n",
    "plt.show()"
   ]
  },
  {
   "cell_type": "code",
   "execution_count": null,
   "metadata": {},
   "outputs": [],
   "source": []
  },
  {
   "cell_type": "code",
   "execution_count": null,
   "metadata": {},
   "outputs": [],
   "source": []
  }
 ],
 "metadata": {
  "kernelspec": {
   "display_name": "Python 3",
   "language": "python",
   "name": "python3"
  },
  "language_info": {
   "codemirror_mode": {
    "name": "ipython",
    "version": 3
   },
   "file_extension": ".py",
   "mimetype": "text/x-python",
   "name": "python",
   "nbconvert_exporter": "python",
   "pygments_lexer": "ipython3",
   "version": "3.7.9"
  }
 },
 "nbformat": 4,
 "nbformat_minor": 2
}
