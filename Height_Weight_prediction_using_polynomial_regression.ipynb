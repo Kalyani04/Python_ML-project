{
 "cells": [
  {
   "cell_type": "code",
   "execution_count": 1,
   "metadata": {},
   "outputs": [],
   "source": [
    "import pandas as pd\n",
    "import numpy as np\n",
    "from matplotlib import pyplot as plt\n",
    "from sklearn.model_selection import train_test_split\n",
    "from sklearn.linear_model import LinearRegression\n",
    "from sklearn.preprocessing import PolynomialFeatures"
   ]
  },
  {
   "cell_type": "code",
   "execution_count": 19,
   "metadata": {},
   "outputs": [],
   "source": [
    "#input height and weight\n",
    "height= [[4.0], [4.5], [5.0], [5.2], [5.4], [5.8], [6.1], [6.2], [6.4], [6.8]]\n",
    "weight= [ 42, 44, 49, 55, 53, 58, 60, 64, 66, 69 ]"
   ]
  },
  {
   "cell_type": "code",
   "execution_count": 20,
   "metadata": {},
   "outputs": [
    {
     "name": "stdout",
     "output_type": "stream",
     "text": [
      "[[4. ]\n",
      " [4.5]\n",
      " [5. ]\n",
      " [5.2]\n",
      " [5.4]\n",
      " [5.8]\n",
      " [6.1]\n",
      " [6.2]\n",
      " [6.4]\n",
      " [6.8]] [42 44 49 55 53 58 60 64 66 69]\n",
      "(7, 1) (7,)\n",
      "(3, 1) (3,)\n"
     ]
    }
   ],
   "source": [
    "'''\n",
    "Select algorithm based on data analysis\n",
    "- Split training and testing data\n",
    "- we will be using Linear regression as regression problem\n",
    "- Tranining data 70%\n",
    "- Testing data 30%\n",
    "'''\n",
    "H_data = np.array(height)\n",
    "W_data = np.array(weight)\n",
    "print(H_data,W_data)\n",
    "H_train, H_test, W_train, W_test = train_test_split( H_data, W_data, test_size = 0.3 )\n",
    "print( H_train.shape, W_train.shape )\n",
    "print( H_test.shape, W_test.shape )"
   ]
  },
  {
   "cell_type": "code",
   "execution_count": 21,
   "metadata": {},
   "outputs": [
    {
     "data": {
      "image/png": "[encoded data removed]",
      "text/plain": [
       "<Figure size 432x288 with 1 Axes>"
      ]
     },
     "metadata": {
      "needs_background": "light"
     },
     "output_type": "display_data"
    }
   ],
   "source": [
    "plt.scatter( H_data,W_data,color = 'red' )\n",
    "plt.xlabel(\"Height\")\n",
    "plt.ylabel(\"Weight\")\n",
    "plt.show()"
   ]
  },
  {
   "cell_type": "code",
   "execution_count": 22,
   "metadata": {},
   "outputs": [],
   "source": [
    "# Apply Linear Regression\n",
    "reg = LinearRegression()\n",
    "model = reg.fit(H_train, W_train)"
   ]
  },
  {
   "cell_type": "code",
   "execution_count": 23,
   "metadata": {},
   "outputs": [
    {
     "name": "stdout",
     "output_type": "stream",
     "text": [
      "Slope : 9.769281476598552, Intercept : 2.275543836519425\n"
     ]
    }
   ],
   "source": [
    "#get linear regression coefficients\n",
    "slope = reg.coef_[0]\n",
    "intercept = reg.intercept_\n",
    "print(\"Slope : {}, Intercept : {}\".format(slope, intercept))"
   ]
  },
  {
   "cell_type": "code",
   "execution_count": 24,
   "metadata": {},
   "outputs": [
    {
     "name": "stdout",
     "output_type": "stream",
     "text": [
      "List : [[64.79894529]\n",
      " [62.84508899]\n",
      " [41.35266974]\n",
      " [61.86816084]\n",
      " [53.07580751]\n",
      " [58.9373764 ]\n",
      " [51.12195122]]\n"
     ]
    }
   ],
   "source": [
    "#Scores predicted = slope(m) * x(hours) + b(intercept)......(Training)\n",
    "predicted_scores_on_training_data = np.zeros(H_train.shape)\n",
    "#print(H_train)\n",
    "for i in range(len(H_train)):\n",
    "    predicted_scores_on_training_data[i] = (slope * H_train[i]  + intercept)\n",
    "print(\"List : {}\".format(predicted_scores_on_training_data))"
   ]
  },
  {
   "cell_type": "code",
   "execution_count": 25,
   "metadata": {},
   "outputs": [
    {
     "name": "stdout",
     "output_type": "stream",
     "text": [
      "[64.79894529 62.84508899 41.35266974 61.86816084 53.07580751 58.9373764\n",
      " 51.12195122]\n"
     ]
    },
    {
     "data": {
      "image/png": "[encoded data removed]",
      "text/plain": [
       "<Figure size 432x288 with 1 Axes>"
      ]
     },
     "metadata": {
      "needs_background": "light"
     },
     "output_type": "display_data"
    }
   ],
   "source": [
    "a1 = reg.predict(H_train)\n",
    "print(a1)\n",
    "plt.scatter(H_train, W_train, color = 'purple')\n",
    "plt.xlabel('Hours')\n",
    "plt.ylabel('Scores')\n",
    "plt.plot(H_train,predicted_scores_on_training_data, color = 'green')\n",
    "plt.show()\n"
   ]
  },
  {
   "cell_type": "code",
   "execution_count": 26,
   "metadata": {},
   "outputs": [
    {
     "name": "stdout",
     "output_type": "stream",
     "text": [
      "predicted testing data : [[46.23731048]\n",
      " [55.02966381]\n",
      " [68.70665788]]\n"
     ]
    }
   ],
   "source": [
    "#Scores predicted = slope(m) * x(height) + b(intercept)......(Testing)\n",
    "predicted_scores_on_testing_data = np.zeros(H_test.shape)\n",
    "for i in range(len((H_test))):\n",
    "    predicted_scores_on_testing_data[i] = (slope * H_test[i] + intercept)\n",
    "print(\"predicted testing data : {}\".format(predicted_scores_on_testing_data))"
   ]
  },
  {
   "cell_type": "code",
   "execution_count": 27,
   "metadata": {},
   "outputs": [
    {
     "data": {
      "image/png": "[encoded data removed]",
      "text/plain": [
       "<Figure size 432x288 with 1 Axes>"
      ]
     },
     "metadata": {
      "needs_background": "light"
     },
     "output_type": "display_data"
    }
   ],
   "source": [
    "plt.scatter(H_test,W_test,color = 'black')\n",
    "plt.xlabel(\"Height\")\n",
    "plt.ylabel(\"Weight\")\n",
    "plt.plot(H_test,predicted_scores_on_testing_data, color = 'red')\n",
    "plt.show()"
   ]
  },
  {
   "cell_type": "code",
   "execution_count": 28,
   "metadata": {},
   "outputs": [
    {
     "name": "stdout",
     "output_type": "stream",
     "text": [
      "Testing data : 0.9712750219153372,Training data : 0.9632784529819729\n"
     ]
    }
   ],
   "source": [
    "a = reg.score(H_test,W_test)\n",
    "b = reg.score(H_train,W_train)\n",
    "print(\"Testing data : {},Training data : {}\".format(a,b))"
   ]
  },
  {
   "cell_type": "code",
   "execution_count": 36,
   "metadata": {},
   "outputs": [
    {
     "name": "stdout",
     "output_type": "stream",
     "text": [
      "Input of Training data : [[1.00000000e+00 6.40000000e+00 4.09600000e+01 2.62144000e+02\n",
      "  1.67772160e+03 1.07374182e+04 6.87194767e+04 4.39804651e+05\n",
      "  2.81474977e+06 1.80143985e+07 1.15292150e+08]\n",
      " [1.00000000e+00 6.20000000e+00 3.84400000e+01 2.38328000e+02\n",
      "  1.47763360e+03 9.16132832e+03 5.68002356e+04 3.52161461e+05\n",
      "  2.18340106e+06 1.35370865e+07 8.39299366e+07]\n",
      " [1.00000000e+00 4.00000000e+00 1.60000000e+01 6.40000000e+01\n",
      "  2.56000000e+02 1.02400000e+03 4.09600000e+03 1.63840000e+04\n",
      "  6.55360000e+04 2.62144000e+05 1.04857600e+06]\n",
      " [1.00000000e+00 6.10000000e+00 3.72100000e+01 2.26981000e+02\n",
      "  1.38458410e+03 8.44596301e+03 5.15203744e+04 3.14274284e+05\n",
      "  1.91707313e+06 1.16941461e+07 7.13342912e+07]\n",
      " [1.00000000e+00 5.20000000e+00 2.70400000e+01 1.40608000e+02\n",
      "  7.31161600e+02 3.80204032e+03 1.97706097e+04 1.02807170e+05\n",
      "  5.34597285e+05 2.77990588e+06 1.44555106e+07]\n",
      " [1.00000000e+00 5.80000000e+00 3.36400000e+01 1.95112000e+02\n",
      "  1.13164960e+03 6.56356768e+03 3.80686925e+04 2.20798417e+05\n",
      "  1.28063082e+06 7.42765874e+06 4.30804207e+07]\n",
      " [1.00000000e+00 5.00000000e+00 2.50000000e+01 1.25000000e+02\n",
      "  6.25000000e+02 3.12500000e+03 1.56250000e+04 7.81250000e+04\n",
      "  3.90625000e+05 1.95312500e+06 9.76562500e+06]]\n",
      "Input of testing data : [[1.00000000e+00 4.50000000e+00 2.02500000e+01 9.11250000e+01\n",
      "  4.10062500e+02 1.84528125e+03 8.30376562e+03 3.73669453e+04\n",
      "  1.68151254e+05 7.56680643e+05 3.40506289e+06]\n",
      " [1.00000000e+00 5.40000000e+00 2.91600000e+01 1.57464000e+02\n",
      "  8.50305600e+02 4.59165024e+03 2.47949113e+04 1.33892521e+05\n",
      "  7.23019613e+05 3.90430591e+06 2.10832519e+07]\n",
      " [1.00000000e+00 6.80000000e+00 4.62400000e+01 3.14432000e+02\n",
      "  2.13813760e+03 1.45393357e+04 9.88674826e+04 6.72298882e+05\n",
      "  4.57163240e+06 3.10871003e+07 2.11392282e+08]]\n"
     ]
    }
   ],
   "source": [
    "polynomial_equation = PolynomialFeatures(degree = 10)\n",
    "input_H_train = polynomial_equation.fit_transform(H_train)\n",
    "#print(polynomial_equation)\n",
    "print(\"Input of Training data : {}\".format(input_H_train))\n",
    "\n",
    "input_H_test = polynomial_equation.fit_transform(H_test)\n",
    "print(\"Input of testing data : {}\".format(input_H_test))"
   ]
  },
  {
   "cell_type": "code",
   "execution_count": 37,
   "metadata": {},
   "outputs": [],
   "source": [
    "#print(polynomial_equation.get_feature_names)\n",
    "model_train = reg.fit(input_H_train,W_train)\n",
    "model_test = reg.fit(input_H_test,W_test)"
   ]
  },
  {
   "cell_type": "code",
   "execution_count": 43,
   "metadata": {},
   "outputs": [
    {
     "data": {
      "image/png": "[encoded data removed]",
      "text/plain": [
       "<Figure size 432x288 with 1 Axes>"
      ]
     },
     "metadata": {
      "needs_background": "light"
     },
     "output_type": "display_data"
    },
    {
     "name": "stdout",
     "output_type": "stream",
     "text": [
      "(7, 11) (7,)\n",
      "(3, 11)\n"
     ]
    }
   ],
   "source": [
    "plt.plot(input_H_train , color = 'purple')\n",
    "plt.xlabel('height')\n",
    "plt.ylabel('weight')\n",
    "plt.show()\n",
    "print(input_H_train.shape,W_train.shape)\n",
    "print(input_H_test.shape)"
   ]
  },
  {
   "cell_type": "code",
   "execution_count": null,
   "metadata": {},
   "outputs": [],
   "source": []
  },
  {
   "cell_type": "code",
   "execution_count": null,
   "metadata": {},
   "outputs": [],
   "source": []
  }
 ],
 "metadata": {
  "kernelspec": {
   "display_name": "Python 3",
   "language": "python",
   "name": "python3"
  },
  "language_info": {
   "codemirror_mode": {
    "name": "ipython",
    "version": 3
   },
   "file_extension": ".py",
   "mimetype": "text/x-python",
   "name": "python",
   "nbconvert_exporter": "python",
   "pygments_lexer": "ipython3",
   "version": "3.7.9"
  }
 },
 "nbformat": 4,
 "nbformat_minor": 4
}
