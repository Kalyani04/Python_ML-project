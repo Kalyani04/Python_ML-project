{
 "cells": [
  {
   "cell_type": "code",
   "execution_count": 34,
   "metadata": {},
   "outputs": [],
   "source": [
    "import pandas as pd\n",
    "import numpy as np\n",
    "from matplotlib import pyplot as plt\n",
    "from sklearn.model_selection import train_test_split\n",
    "from sklearn.linear_model import LinearRegression\n",
    "from sklearn.preprocessing import PolynomialFeatures"
   ]
  },
  {
   "cell_type": "code",
   "execution_count": 35,
   "metadata": {},
   "outputs": [],
   "source": [
    "#input height and weight\n",
    "height= [[4.0], [4.5], [5.0], [5.2], [5.4], [5.8], [6.1], [6.2], [6.4], [6.8]]\n",
    "weight= [ 42, 44, 49, 55, 53, 58, 60, 64, 66, 69 ]"
   ]
  },
  {
   "cell_type": "code",
   "execution_count": 36,
   "metadata": {},
   "outputs": [
    {
     "name": "stdout",
     "output_type": "stream",
     "text": [
      "[[4. ]\n",
      " [4.5]\n",
      " [5. ]\n",
      " [5.2]\n",
      " [5.4]\n",
      " [5.8]\n",
      " [6.1]\n",
      " [6.2]\n",
      " [6.4]\n",
      " [6.8]] [42 44 49 55 53 58 60 64 66 69]\n",
      "(7, 1) (7,)\n",
      "(3, 1) (3,)\n"
     ]
    }
   ],
   "source": [
    "'''\n",
    "Select algorithm based on data analysis\n",
    "- Split training and testing data\n",
    "- we will be using Linear regression as regression problem\n",
    "- Tranining data 70%\n",
    "- Testing data 30%\n",
    "'''\n",
    "H_data = np.array(height)\n",
    "W_data = np.array(weight)\n",
    "print(H_data,W_data)\n",
    "H_train, H_test, W_train, W_test = train_test_split( H_data, W_data, test_size = 0.3 )\n",
    "print( H_train.shape, W_train.shape )\n",
    "print( H_test.shape, W_test.shape )"
   ]
  },
  {
   "cell_type": "code",
   "execution_count": 37,
   "metadata": {},
   "outputs": [
    {
     "data": {
      "image/png": "[encoded data removed]",
      "text/plain": [
       "<Figure size 432x288 with 1 Axes>"
      ]
     },
     "metadata": {
      "needs_background": "light"
     },
     "output_type": "display_data"
    }
   ],
   "source": [
    "plt.scatter( H_data,W_data,color = 'red' )\n",
    "plt.xlabel(\"Height\")\n",
    "plt.ylabel(\"Weight\")\n",
    "plt.show()"
   ]
  },
  {
   "cell_type": "code",
   "execution_count": 38,
   "metadata": {},
   "outputs": [],
   "source": [
    "# Apply Linear Regression\n",
    "reg = LinearRegression()\n",
    "model = reg.fit(H_train, W_train)"
   ]
  },
  {
   "cell_type": "code",
   "execution_count": 39,
   "metadata": {},
   "outputs": [
    {
     "name": "stdout",
     "output_type": "stream",
     "text": [
      "Slope : 10.911094783247616, Intercept : -4.6605437178545515\n"
     ]
    }
   ],
   "source": [
    "#get linear regression coefficients\n",
    "slope = reg.coef_[0]\n",
    "intercept = reg.intercept_\n",
    "print(\"Slope : {}, Intercept : {}\".format(slope, intercept))"
   ]
  },
  {
   "cell_type": "code",
   "execution_count": 40,
   "metadata": {},
   "outputs": [
    {
     "name": "stdout",
     "output_type": "stream",
     "text": [
      "List : [[65.17046289]\n",
      " [69.53490081]\n",
      " [58.62380602]\n",
      " [49.8949302 ]\n",
      " [44.43938281]\n",
      " [54.25936811]\n",
      " [52.07714916]]\n"
     ]
    }
   ],
   "source": [
    "#Scores predicted = slope(m) * x(hours) + b(intercept)......(Training)\n",
    "predicted_scores_on_training_data = np.zeros(H_train.shape)\n",
    "#print(H_train)\n",
    "for i in range(len(H_train)):\n",
    "    predicted_scores_on_training_data[i] = (slope * H_train[i]  + intercept)\n",
    "print(\"List : {}\".format(predicted_scores_on_training_data))"
   ]
  },
  {
   "cell_type": "code",
   "execution_count": 41,
   "metadata": {},
   "outputs": [
    {
     "name": "stdout",
     "output_type": "stream",
     "text": [
      "[65.17046289 69.53490081 58.62380602 49.8949302  44.43938281 54.25936811\n",
      " 52.07714916]\n"
     ]
    },
    {
     "data": {
      "image/png": "[encoded data removed]",
      "text/plain": [
       "<Figure size 432x288 with 1 Axes>"
      ]
     },
     "metadata": {
      "needs_background": "light"
     },
     "output_type": "display_data"
    }
   ],
   "source": [
    "a1 = reg.predict(H_train)\n",
    "print(a1)\n",
    "plt.scatter(H_train, W_train, color = 'purple')\n",
    "plt.xlabel('Hours')\n",
    "plt.ylabel('Scores')\n",
    "plt.plot(H_train,predicted_scores_on_training_data, color = 'green')\n",
    "plt.show()\n"
   ]
  },
  {
   "cell_type": "code",
   "execution_count": 42,
   "metadata": {},
   "outputs": [
    {
     "name": "stdout",
     "output_type": "stream",
     "text": [
      "predicted testing data : [[61.89713446]\n",
      " [62.98824394]\n",
      " [38.98383542]]\n"
     ]
    }
   ],
   "source": [
    "#Scores predicted = slope(m) * x(height) + b(intercept)......(Testing)\n",
    "predicted_scores_on_testing_data = np.zeros(H_test.shape)\n",
    "for i in range(len((H_test))):\n",
    "    predicted_scores_on_testing_data[i] = (slope * H_test[i] + intercept)\n",
    "print(\"predicted testing data : {}\".format(predicted_scores_on_testing_data))"
   ]
  },
  {
   "cell_type": "code",
   "execution_count": 43,
   "metadata": {},
   "outputs": [
    {
     "data": {
      "image/png": "[encoded data removed]",
      "text/plain": [
       "<Figure size 432x288 with 1 Axes>"
      ]
     },
     "metadata": {
      "needs_background": "light"
     },
     "output_type": "display_data"
    }
   ],
   "source": [
    "plt.scatter(H_test,W_test,color = 'black')\n",
    "plt.xlabel(\"Height\")\n",
    "plt.ylabel(\"Weight\")\n",
    "plt.plot(H_test,predicted_scores_on_testing_data, color = 'red')\n",
    "plt.show()"
   ]
  },
  {
   "cell_type": "code",
   "execution_count": 44,
   "metadata": {},
   "outputs": [
    {
     "name": "stdout",
     "output_type": "stream",
     "text": [
      "Testing data : 0.9500484770974527,Training data : 0.9737365236251625\n"
     ]
    }
   ],
   "source": [
    "a = reg.score(H_test,W_test)\n",
    "b = reg.score(H_train,W_train)\n",
    "print(\"Testing data : {},Training data : {}\".format(a,b))"
   ]
  },
  {
   "cell_type": "code",
   "execution_count": null,
   "metadata": {},
   "outputs": [],
   "source": []
  },
  {
   "cell_type": "code",
   "execution_count": null,
   "metadata": {},
   "outputs": [],
   "source": []
  }
 ],
 "metadata": {
  "kernelspec": {
   "display_name": "Python 3",
   "language": "python",
   "name": "python3"
  },
  "language_info": {
   "codemirror_mode": {
    "name": "ipython",
    "version": 3
   },
   "file_extension": ".py",
   "mimetype": "text/x-python",
   "name": "python",
   "nbconvert_exporter": "python",
   "pygments_lexer": "ipython3",
   "version": "3.7.9"
  }
 },
 "nbformat": 4,
 "nbformat_minor": 4
}
