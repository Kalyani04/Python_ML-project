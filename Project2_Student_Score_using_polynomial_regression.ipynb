{
 "cells": [
  {
   "cell_type": "code",
   "execution_count": 22,
   "metadata": {
    "scrolled": true
   },
   "outputs": [],
   "source": [
    "import pandas as pd\n",
    "import numpy as np\n",
    "from matplotlib import pyplot as plt\n",
    "from sklearn.model_selection import train_test_split\n",
    "from sklearn.linear_model import LinearRegression\n",
    "from sklearn.preprocessing import PolynomialFeatures\n",
    "#import Polynomial_Regression_using_polynomialFeatures as mp"
   ]
  },
  {
   "cell_type": "code",
   "execution_count": 23,
   "metadata": {},
   "outputs": [],
   "source": [
    "data = pd.read_csv('student_scores.csv')\n",
    "#print(data)"
   ]
  },
  {
   "cell_type": "code",
   "execution_count": 24,
   "metadata": {},
   "outputs": [],
   "source": [
    "'''\n",
    "#one method to split the data\n",
    "Training_data = data.head(20)\n",
    "Testing_data = data.tail(5)\n",
    "#print(\"Training data : {}, Testing data : {}\".format(Training_data, Testing_data))\n",
    "\n",
    "#Create Hour training label\n",
    "H_train = np.array(Training_data.drop(['Scores'], 1))\n",
    "print(H_train)\n",
    "#Create score training label\n",
    "S_train = np.array(Training_data.drop(['Hours'], 1))\n",
    "print(S_train)\n",
    "\n",
    "#Create Hour testing data\n",
    "H_test = np.array(Testing_data.drop(['Scores'], 1))\n",
    "print(H_test)\n",
    "#Create score testing label\n",
    "S_test = np.array(Testing_data.drop(['Hours'], 1))\n",
    "print(S_test)\n",
    "'''\n",
    "#another method for spliting the data\n",
    "'''\n",
    "Select algorithm based on data analysis\n",
    "- Split training and testing data\n",
    "- we will be using Linear regression as regression problem\n",
    "- Tranining data 70%\n",
    "- Testing data 30%\n",
    "'''\n",
    "#H_temp = data.drop(4,'index')\n",
    "H_data = np.array(data.drop(['Scores'], 1))\n",
    "S_data = np.array(data.drop(['Hours'], 1))\n",
    "\n",
    "#print(H_temp)\n",
    "H_train, H_test, S_train, S_test = train_test_split( H_data, S_data, test_size = 0.3 )\n",
    "#print( H_train.shape, S_train.shape )\n",
    "#print( H_test.shape, S_test.shape )"
   ]
  },
  {
   "cell_type": "code",
   "execution_count": 25,
   "metadata": {},
   "outputs": [
    {
     "data": {
      "image/png": "[encoded data removed]",
      "text/plain": [
       "<Figure size 432x288 with 1 Axes>"
      ]
     },
     "metadata": {
      "needs_background": "light"
     },
     "output_type": "display_data"
    }
   ],
   "source": [
    "plt.scatter( data['Hours'], data['Scores'],color = 'red' )\n",
    "plt.xlabel(\"Hours\")\n",
    "plt.ylabel(\"Scores\")\n",
    "plt.show()\n"
   ]
  },
  {
   "cell_type": "code",
   "execution_count": 56,
   "metadata": {},
   "outputs": [
    {
     "name": "stdout",
     "output_type": "stream",
     "text": [
      "PolynomialFeatures(degree=5)\n",
      "['1', 'x0', 'x0^2', 'x0^3', 'x0^4', 'x0^5']\n",
      "{'degree': 5, 'include_bias': True, 'interaction_only': False, 'order': 'C'}\n",
      "Input of testing data : [  1.        2.7       7.29     19.683    53.1441  143.48907]\n"
     ]
    }
   ],
   "source": [
    "polynomial_equation = PolynomialFeatures(degree = 5)\n",
    "#input_H_train = PolynomialFeatures.fit_transform(H_train)\n",
    "#print(input_H_train)\n",
    "\n",
    "polynomial_equation.fit(H_train)\n",
    "\n",
    "input_H_train = polynomial_equation.transform(H_train)\n",
    "print(polynomial_equation)\n",
    "p = polynomial_equation.get_feature_names()\n",
    "print(p)\n",
    "Q = polynomial_equation.get_params()\n",
    "print(Q)\n",
    "transform_data = polynomial_equation.transform(H_train)\n",
    "#print(transform_data[0])\n",
    "\n",
    "\n",
    "\n",
    "input_H_test = polynomial_equation.transform(H_test)\n",
    "print(\"Input of testing data : {}\".format(input_H_test[0]))"
   ]
  },
  {
   "cell_type": "code",
   "execution_count": 57,
   "metadata": {},
   "outputs": [],
   "source": [
    "# Apply Linear Regression\n",
    "reg = LinearRegression()\n",
    "model = reg.fit(input_H_train, S_train)"
   ]
  },
  {
   "cell_type": "code",
   "execution_count": 58,
   "metadata": {},
   "outputs": [
    {
     "name": "stdout",
     "output_type": "stream",
     "text": [
      "Slope : [[ 0.00000000e+00  3.70020069e+01 -1.92081286e+01  4.91770926e+00\n",
      "  -5.13772771e-01  1.84517159e-02]], Intercept : [-5.96512018]\n"
     ]
    }
   ],
   "source": [
    "#get linear regression coefficients\n",
    "slope = reg.coef_\n",
    "intercept = reg.intercept_\n",
    "print(\"Slope : {}, Intercept : {}\".format(slope, intercept))"
   ]
  },
  {
   "cell_type": "code",
   "execution_count": 59,
   "metadata": {},
   "outputs": [],
   "source": [
    "#Scores predicted = slope(m) * x(height) + b(intercept)......(Testing)\n",
    "#print(S_train)\n",
    "#print(input_H_train)\n",
    "def my_prediction(x,y,m,b):\n",
    "    predicted_train= np.zeros(y.shape)\n",
    "    \n",
    "    for i in range(len((x))):\n",
    "        for j in range(len(x[i])):\n",
    "            predicted_train[i] += (m[0][j] * x[i][j]) \n",
    "        predicted_train[i]  += b\n",
    "    return predicted_train\n",
    "\n",
    "a= my_prediction(input_H_train,S_train,slope,intercept)\n",
    "b= my_prediction(input_H_test,S_test,slope,intercept)\n",
    "\n",
    "#print(\"training data : {} testing data : {}\".format(a,b))\n",
    "\n"
   ]
  },
  {
   "cell_type": "code",
   "execution_count": 60,
   "metadata": {},
   "outputs": [
    {
     "data": {
      "image/png": "[encoded data removed]",
      "text/plain": [
       "<Figure size 432x288 with 1 Axes>"
      ]
     },
     "metadata": {
      "needs_background": "light"
     },
     "output_type": "display_data"
    }
   ],
   "source": [
    "\n",
    "xvals = np.linspace(0,10, 50)\n",
    "xvals_transform = np.array([xvals]).reshape(50, 1)\n",
    "#print(xvals_transform)\n",
    "input_xval = polynomial_equation.fit_transform(xvals_transform)\n",
    "yvals = my_prediction(input_xval, xvals_transform, slope, intercept )\n",
    "\n",
    "plt.scatter(H_train, S_train, color = 'purple')\n",
    "plt.scatter(H_test, S_test, color = 'black')\n",
    "\n",
    "plt.xlabel('Hours')\n",
    "plt.ylabel('Scores')\n",
    "\n",
    "plt.scatter(H_train,a, color = 'green')\n",
    "plt.scatter(H_test,b, color = 'red')\n",
    "\n",
    "plt.plot(xvals, yvals , color = 'coral', linestyle = 'dashed')\n",
    "plt.show()"
   ]
  },
  {
   "cell_type": "code",
   "execution_count": 63,
   "metadata": {},
   "outputs": [
    {
     "name": "stdout",
     "output_type": "stream",
     "text": [
      "Testing data : 0.851463068002368,Training data : 0.9728584996767119\n"
     ]
    }
   ],
   "source": [
    "a = reg.score(input_H_test,S_test)\n",
    "b = reg.score(input_H_train,S_train)\n",
    "print(\"Testing data : {},Training data : {}\".format(a,b))\n"
   ]
  },
  {
   "cell_type": "code",
   "execution_count": null,
   "metadata": {},
   "outputs": [],
   "source": []
  }
 ],
 "metadata": {
  "kernelspec": {
   "display_name": "Python 3",
   "language": "python",
   "name": "python3"
  },
  "language_info": {
   "codemirror_mode": {
    "name": "ipython",
    "version": 3
   },
   "file_extension": ".py",
   "mimetype": "text/x-python",
   "name": "python",
   "nbconvert_exporter": "python",
   "pygments_lexer": "ipython3",
   "version": "3.7.9"
  }
 },
 "nbformat": 4,
 "nbformat_minor": 4
}
