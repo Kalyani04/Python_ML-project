{
 "cells": [
  {
   "cell_type": "code",
   "execution_count": 5,
   "metadata": {
    "scrolled": true
   },
   "outputs": [],
   "source": [
    "import pandas as pd\n",
    "import numpy as np\n",
    "from matplotlib import pyplot as plt\n",
    "from sklearn.model_selection import train_test_split\n",
    "from sklearn.linear_model import LinearRegression"
   ]
  },
  {
   "cell_type": "code",
   "execution_count": 6,
   "metadata": {},
   "outputs": [
    {
     "name": "stdout",
     "output_type": "stream",
     "text": [
      "    Hours  Scores\n",
      "0     2.5      21\n",
      "1     5.1      47\n",
      "2     3.2      27\n",
      "3     8.5      75\n",
      "4     3.5      30\n",
      "5     1.5      20\n",
      "6     9.2      88\n",
      "7     5.5      60\n",
      "8     8.3      81\n",
      "9     2.7      25\n",
      "10    7.7      85\n",
      "11    5.9      62\n",
      "12    4.5      41\n",
      "13    3.3      42\n",
      "14    1.1      17\n",
      "15    8.9      95\n",
      "16    2.5      30\n",
      "17    1.9      24\n",
      "18    6.1      67\n",
      "19    7.4      69\n",
      "20    2.7      30\n",
      "21    4.8      54\n",
      "22    3.8      35\n",
      "23    6.9      76\n",
      "24    7.8      86\n"
     ]
    }
   ],
   "source": [
    "data = pd.read_csv('student_scores.csv')\n",
    "print(data)"
   ]
  },
  {
   "cell_type": "code",
   "execution_count": 7,
   "metadata": {},
   "outputs": [
    {
     "name": "stdout",
     "output_type": "stream",
     "text": [
      "(17, 1) (17, 1)\n",
      "(8, 1) (8, 1)\n"
     ]
    }
   ],
   "source": [
    "'''\n",
    "#one method to split the data\n",
    "Training_data = data.head(20)\n",
    "Testing_data = data.tail(5)\n",
    "#print(\"Training data : {}, Testing data : {}\".format(Training_data, Testing_data))\n",
    "\n",
    "#Create Hour training label\n",
    "H_train = np.array(Training_data.drop(['Scores'], 1))\n",
    "print(H_train)\n",
    "#Create score training label\n",
    "S_train = np.array(Training_data.drop(['Hours'], 1))\n",
    "print(S_train)\n",
    "\n",
    "#Create Hour testing data\n",
    "H_test = np.array(Testing_data.drop(['Scores'], 1))\n",
    "print(H_test)\n",
    "#Create score testing label\n",
    "S_test = np.array(Testing_data.drop(['Hours'], 1))\n",
    "print(S_test)\n",
    "'''\n",
    "#another method for spliting the data\n",
    "'''\n",
    "Select algorithm based on data analysis\n",
    "- Split training and testing data\n",
    "- we will be using Linear regression as regression problem\n",
    "- Tranining data 70%\n",
    "- Testing data 30%\n",
    "'''\n",
    "H_data = np.array(data.drop(['Scores'], 1))\n",
    "S_data = np.array(data.drop(['Hours'], 1))\n",
    "\n",
    "H_train, H_test, S_train, S_test = train_test_split( H_data, S_data, test_size = 0.3 )\n",
    "print( H_train.shape, S_train.shape )\n",
    "print( H_test.shape, S_test.shape )"
   ]
  },
  {
   "cell_type": "code",
   "execution_count": 8,
   "metadata": {},
   "outputs": [
    {
     "data": {
      "image/png": "[encoded data removed]",
      "text/plain": [
       "<Figure size 432x288 with 1 Axes>"
      ]
     },
     "metadata": {
      "needs_background": "light"
     },
     "output_type": "display_data"
    }
   ],
   "source": [
    "plt.scatter( data['Hours'], data['Scores'],color = 'red' )\n",
    "plt.xlabel(\"Hours\")\n",
    "plt.ylabel(\"Scores\")\n",
    "plt.show()"
   ]
  },
  {
   "cell_type": "code",
   "execution_count": 9,
   "metadata": {},
   "outputs": [],
   "source": [
    "# Apply Linear Regression\n",
    "reg = LinearRegression()\n",
    "model = reg.fit(H_train, S_train)"
   ]
  },
  {
   "cell_type": "code",
   "execution_count": 10,
   "metadata": {},
   "outputs": [
    {
     "name": "stdout",
     "output_type": "stream",
     "text": [
      "Slope : [[9.89411741]], Intercept : [0.56865178]\n"
     ]
    }
   ],
   "source": [
    "#get linear regression coefficients\n",
    "slope = reg.coef_\n",
    "intercept = reg.intercept_\n",
    "print(\"Slope : {}, Intercept : {}\".format(slope, intercept))"
   ]
  },
  {
   "cell_type": "code",
   "execution_count": 11,
   "metadata": {},
   "outputs": [
    {
     "name": "stdout",
     "output_type": "stream",
     "text": [
      "List : [[11.45218093]\n",
      " [25.30394531]\n",
      " [38.16629795]\n",
      " [60.922768  ]\n",
      " [77.7427676 ]\n",
      " [91.59453197]\n",
      " [82.6898263 ]\n",
      " [32.2298275 ]\n",
      " [84.66864979]\n",
      " [15.4098279 ]\n",
      " [73.78512063]\n",
      " [88.62629675]\n",
      " [68.83806193]\n",
      " [51.02865058]\n",
      " [35.19806272]\n",
      " [27.28276879]\n",
      " [48.06041536]]\n"
     ]
    }
   ],
   "source": [
    "#Scores predicted = slope(m) * x(hours) + b(intercept)......(Training)\n",
    "predicted_scores_on_training_data = np.zeros(H_train.shape)\n",
    "#print(H_train)\n",
    "for i in range(len(H_train)):\n",
    "    predicted_scores_on_training_data[i] = (slope * H_train[i]  + intercept)\n",
    "print(\"List : {}\".format(predicted_scores_on_training_data))"
   ]
  },
  {
   "cell_type": "code",
   "execution_count": 12,
   "metadata": {},
   "outputs": [
    {
     "data": {
      "image/png": "[encoded data removed]",
      "text/plain": [
       "<Figure size 432x288 with 1 Axes>"
      ]
     },
     "metadata": {
      "needs_background": "light"
     },
     "output_type": "display_data"
    }
   ],
   "source": [
    "plt.scatter(H_train, S_train, color = 'purple')\n",
    "plt.xlabel('Hours')\n",
    "plt.ylabel('Scores')\n",
    "plt.plot(H_train,predicted_scores_on_training_data, color = 'green')\n",
    "plt.show()\n",
    "\n",
    "    "
   ]
  },
  {
   "cell_type": "code",
   "execution_count": 13,
   "metadata": {},
   "outputs": [
    {
     "name": "stdout",
     "output_type": "stream",
     "text": [
      "predicted testing data : [[54.98629755]\n",
      " [25.30394531]\n",
      " [76.75335586]\n",
      " [45.09218013]\n",
      " [33.21923924]\n",
      " [27.28276879]\n",
      " [19.36747486]\n",
      " [58.94394451]]\n"
     ]
    }
   ],
   "source": [
    "#Scores predicted = slope(m) * x(hours) + b(intercept)......(Testing)\n",
    "predicted_scores_on_testing_data = np.zeros(H_test.shape)\n",
    "for i in range(len((H_test))):\n",
    "    predicted_scores_on_testing_data[i] = (slope * H_test[i] + intercept)\n",
    "print(\"predicted testing data : {}\".format(predicted_scores_on_testing_data))\n",
    "\n"
   ]
  },
  {
   "cell_type": "code",
   "execution_count": 14,
   "metadata": {},
   "outputs": [
    {
     "data": {
      "image/png": "[encoded data removed]",
      "text/plain": [
       "<Figure size 432x288 with 1 Axes>"
      ]
     },
     "metadata": {
      "needs_background": "light"
     },
     "output_type": "display_data"
    }
   ],
   "source": [
    "plt.scatter(H_test,S_test,color = 'black')\n",
    "plt.xlabel(\"Hours\")\n",
    "plt.ylabel(\"Scores\")\n",
    "plt.plot(H_test,predicted_scores_on_testing_data, color = 'red')\n",
    "plt.show()"
   ]
  },
  {
   "cell_type": "code",
   "execution_count": 15,
   "metadata": {},
   "outputs": [
    {
     "name": "stdout",
     "output_type": "stream",
     "text": [
      "Testing data : 0.9177414443182376,Training data : 0.9568888263563209\n"
     ]
    }
   ],
   "source": [
    "a = reg.score(H_test,S_test)\n",
    "b = reg.score(H_train,S_train)\n",
    "print(\"Testing data : {},Training data : {}\".format(a,b))\n"
   ]
  },
  {
   "cell_type": "code",
   "execution_count": null,
   "metadata": {},
   "outputs": [],
   "source": []
  }
 ],
 "metadata": {
  "kernelspec": {
   "display_name": "Python 3",
   "language": "python",
   "name": "python3"
  },
  "language_info": {
   "codemirror_mode": {
    "name": "ipython",
    "version": 3
   },
   "file_extension": ".py",
   "mimetype": "text/x-python",
   "name": "python",
   "nbconvert_exporter": "python",
   "pygments_lexer": "ipython3",
   "version": "3.7.9"
  }
 },
 "nbformat": 4,
 "nbformat_minor": 4
}
